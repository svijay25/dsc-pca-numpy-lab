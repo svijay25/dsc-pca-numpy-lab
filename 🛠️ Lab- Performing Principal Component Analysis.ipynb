{
 "cells": [
  {
   "cell_type": "markdown",
   "metadata": {},
   "source": [
    "# Performing Principal Component Analysis (PCA) - Lab\n",
    "\n",
    "## Introduction\n",
    "\n",
    "Now that you have a high-level overview of PCA, as well as some of the details of the algorithm itself, it's time to practice implementing PCA on your own using the NumPy package. \n",
    "\n",
    "## Objectives\n",
    "\n",
    "You will be able to:\n",
    "    \n",
    "* Implement PCA from scratch using NumPy"
   ]
  },
  {
   "cell_type": "markdown",
   "metadata": {},
   "source": [
    "## Import the data\n",
    "\n",
    "- Import the data stored in the file `'foodusa.csv'` (set `index_col=0`)\n",
    "- Print the first five rows of the DataFrame "
   ]
  },
  {
   "cell_type": "code",
   "execution_count": 1,
   "metadata": {},
   "outputs": [
    {
     "name": "stdout",
     "output_type": "stream",
     "text": [
      "           Bread  Burger  Milk  Oranges  Tomatoes\n",
      "City                                             \n",
      "ATLANTA     24.5    94.5  73.9     80.1      41.6\n",
      "BALTIMORE   26.5    91.0  67.5     74.6      53.3\n",
      "BOSTON      29.7   100.8  61.4    104.0      59.6\n",
      "BUFFALO     22.8    86.6  65.3    118.4      51.2\n",
      "CHICAGO     26.7    86.7  62.7    105.9      51.2\n"
     ]
    }
   ],
   "source": [
    "import pandas as pd\n",
    "\n",
    "# Load the data from the CSV file\n",
    "data = pd.read_csv('foodusa.csv', index_col=0)\n",
    "\n",
    "# Print the first five rows of the DataFrame\n",
    "print(data.head())\n",
    "\n"
   ]
  },
  {
   "cell_type": "markdown",
   "metadata": {},
   "source": [
    "## Normalize the data\n",
    "\n",
    "Next, normalize your data by subtracting the mean from each of the columns."
   ]
  },
  {
   "cell_type": "code",
   "execution_count": 2,
   "metadata": {},
   "outputs": [
    {
     "name": "stdout",
     "output_type": "stream",
     "text": [
      "              Bread    Burger       Milk    Oranges   Tomatoes\n",
      "City                                                          \n",
      "ATLANTA   -0.791304  2.643478  11.604348 -22.891304  -7.165217\n",
      "BALTIMORE  1.208696 -0.856522   5.204348 -28.391304   4.534783\n",
      "BOSTON     4.408696  8.943478  -0.895652   1.008696  10.834783\n",
      "BUFFALO   -2.491304 -5.256522   3.004348  15.408696   2.434783\n",
      "CHICAGO    1.408696 -5.156522   0.404348   2.908696   2.434783\n"
     ]
    }
   ],
   "source": [
    "# Calculate the mean of each column\n",
    "mean = data.mean()\n",
    "\n",
    "# Subtract the mean from each column to normalize the data\n",
    "data_normalized = data - mean\n",
    "\n",
    "# Print the first five rows of the normalized DataFrame\n",
    "print(data_normalized.head())"
   ]
  },
  {
   "cell_type": "markdown",
   "metadata": {},
   "source": [
    "## Calculate the covariance matrix\n",
    "\n",
    "The next step is to calculate the covariance matrix for your normalized data. "
   ]
  },
  {
   "cell_type": "code",
   "execution_count": 4,
   "metadata": {},
   "outputs": [
    {
     "name": "stdout",
     "output_type": "stream",
     "text": [
      "[[  6.2844664   12.91096838   5.71905138   1.31037549   7.28513834]\n",
      " [ 12.91096838  57.07711462  17.50752964  22.69187747  36.29478261]\n",
      " [  5.71905138  17.50752964  48.30588933  -0.27503953  13.44347826]\n",
      " [  1.31037549  22.69187747  -0.27503953 202.75628458  38.76241107]\n",
      " [  7.28513834  36.29478261  13.44347826  38.76241107  57.80055336]]\n"
     ]
    }
   ],
   "source": [
    "import pandas as pd\n",
    "import numpy as np\n",
    "\n",
    "# Calculate the covariance matrix for the normalized data\n",
    "cov_mat = np.cov(data_normalized, rowvar=False)\n",
    "\n",
    "# Print the covariance matrix\n",
    "print(cov_mat)"
   ]
  },
  {
   "cell_type": "markdown",
   "metadata": {},
   "source": [
    "## Calculate the eigenvectors\n",
    "\n",
    "Next, calculate the eigenvectors and eigenvalues for your covariance matrix. "
   ]
  },
  {
   "cell_type": "code",
   "execution_count": 5,
   "metadata": {},
   "outputs": [
    {
     "name": "stdout",
     "output_type": "stream",
     "text": [
      "Eigenvalues:\n",
      " [218.99867893  91.72316894   3.02922934  20.81054128  37.66268981]\n",
      "\n",
      "Eigenvectors:\n",
      " [[-0.02848905 -0.16532108 -0.96716354 -0.18972574  0.02135748]\n",
      " [-0.2001224  -0.63218494  0.24877074 -0.65862454  0.25420475]\n",
      " [-0.0416723  -0.44215032  0.03606094  0.10765906 -0.88874949]\n",
      " [-0.93885906  0.31435473 -0.01521357 -0.06904699 -0.12135003]\n",
      " [-0.27558389 -0.52791603 -0.03429221  0.71684022  0.36100184]]\n"
     ]
    }
   ],
   "source": [
    "import pandas as pd\n",
    "import numpy as np\n",
    "\n",
    "# Load the data from the CSV file\n",
    "data = pd.read_csv('foodusa.csv', index_col=0)\n",
    "\n",
    "# Calculate the mean of each column\n",
    "mean = data.mean()\n",
    "\n",
    "# Subtract the mean from each column to normalize the data\n",
    "data_normalized = data - mean\n",
    "\n",
    "# Calculate the covariance matrix for the normalized data\n",
    "cov_mat = np.cov(data_normalized, rowvar=False)\n",
    "\n",
    "# Calculate the eigenvalues and eigenvectors for the covariance matrix\n",
    "eig_values, eig_vectors = np.linalg.eig(cov_mat)\n",
    "\n",
    "# Print the eigenvalues and eigenvectors\n",
    "print(\"Eigenvalues:\\n\", eig_values)\n",
    "print(\"\\nEigenvectors:\\n\", eig_vectors)\n"
   ]
  },
  {
   "cell_type": "markdown",
   "metadata": {},
   "source": [
    "## Sort the eigenvectors \n",
    "\n",
    "Great! Now that you have the eigenvectors and their associated eigenvalues, sort the eigenvectors based on their eigenvalues to determine primary components!"
   ]
  },
  {
   "cell_type": "code",
   "execution_count": 6,
   "metadata": {},
   "outputs": [
    {
     "name": "stdout",
     "output_type": "stream",
     "text": [
      "Sorted Eigenvectors:\n",
      " [[-0.02848905 -0.16532108  0.02135748 -0.18972574 -0.96716354]\n",
      " [-0.2001224  -0.63218494  0.25420475 -0.65862454  0.24877074]\n",
      " [-0.0416723  -0.44215032 -0.88874949  0.10765906  0.03606094]\n",
      " [-0.93885906  0.31435473 -0.12135003 -0.06904699 -0.01521357]\n",
      " [-0.27558389 -0.52791603  0.36100184  0.71684022 -0.03429221]]\n"
     ]
    }
   ],
   "source": [
    "import pandas as pd\n",
    "import numpy as np\n",
    "\n",
    "# Load the data from the CSV file\n",
    "data = pd.read_csv('foodusa.csv', index_col=0)\n",
    "\n",
    "# Calculate the mean of each column\n",
    "mean = data.mean()\n",
    "\n",
    "# Subtract the mean from each column to normalize the data\n",
    "data_normalized = data - mean\n",
    "\n",
    "# Calculate the covariance matrix for the normalized data\n",
    "cov_mat = np.cov(data_normalized, rowvar=False)\n",
    "\n",
    "# Calculate the eigenvalues and eigenvectors for the covariance matrix\n",
    "eig_values, eig_vectors = np.linalg.eig(cov_mat)\n",
    "\n",
    "# Get the index values of the sorted eigenvalues in descending order\n",
    "e_indices = np.argsort(eig_values)[::-1]\n",
    "\n",
    "# Sort the eigenvectors based on the sorted eigenvalues\n",
    "eigenvectors_sorted = eig_vectors[:, e_indices]\n",
    "\n",
    "# Print the sorted eigenvectors\n",
    "print(\"Sorted Eigenvectors:\\n\", eigenvectors_sorted)\n"
   ]
  },
  {
   "cell_type": "markdown",
   "metadata": {},
   "source": [
    "## Reprojecting the data\n",
    "\n",
    "Finally, reproject the dataset using your eigenvectors. Reproject this dataset down to 2 dimensions."
   ]
  },
  {
   "cell_type": "code",
   "execution_count": 7,
   "metadata": {},
   "outputs": [
    {
     "name": "stdout",
     "output_type": "stream",
     "text": [
      "Reprojected Data (First 5 rows):\n",
      " [[ 22.47627135 -10.08457066]\n",
      " [ 25.32581769 -13.27837213]\n",
      " [ -5.81098064 -11.38953692]\n",
      " [-14.13985584   5.96502128]\n",
      " [ -2.42688912   2.47720723]]\n"
     ]
    }
   ],
   "source": [
    "import pandas as pd\n",
    "import numpy as np\n",
    "\n",
    "# Load the data from the CSV file\n",
    "data = pd.read_csv('foodusa.csv', index_col=0)\n",
    "\n",
    "# Calculate the mean of each column\n",
    "mean = data.mean()\n",
    "\n",
    "# Subtract the mean from each column to normalize the data\n",
    "data_normalized = data - mean\n",
    "\n",
    "# Calculate the covariance matrix for the normalized data\n",
    "cov_mat = np.cov(data_normalized, rowvar=False)\n",
    "\n",
    "# Calculate the eigenvalues and eigenvectors for the covariance matrix\n",
    "eig_values, eig_vectors = np.linalg.eig(cov_mat)\n",
    "\n",
    "# Get the index values of the sorted eigenvalues in descending order\n",
    "e_indices = np.argsort(eig_values)[::-1]\n",
    "\n",
    "# Sort the eigenvectors based on the sorted eigenvalues\n",
    "eigenvectors_sorted = eig_vectors[:, e_indices]\n",
    "\n",
    "# Select the top 2 eigenvectors (principal components)\n",
    "top_2_eigenvectors = eigenvectors_sorted[:, :2]\n",
    "\n",
    "# Reproject the normalized data onto the top 2 principal components\n",
    "data_reprojected = np.dot(data_normalized, top_2_eigenvectors)\n",
    "\n",
    "# Print the reprojected data\n",
    "print(\"Reprojected Data (First 5 rows):\\n\", data_reprojected[:5])\n"
   ]
  },
  {
   "cell_type": "markdown",
   "metadata": {},
   "source": [
    "## Summary\n",
    "\n",
    "Well done! You've now coded PCA on your own using NumPy! With that, it's time to look at further applications of PCA."
   ]
  }
 ],
 "metadata": {
  "kernelspec": {
   "display_name": "Python 3 (ipykernel)",
   "language": "python",
   "name": "python3"
  },
  "language_info": {
   "codemirror_mode": {
    "name": "ipython",
    "version": 3
   },
   "file_extension": ".py",
   "mimetype": "text/x-python",
   "name": "python",
   "nbconvert_exporter": "python",
   "pygments_lexer": "ipython3",
   "version": "3.12.4"
  }
 },
 "nbformat": 4,
 "nbformat_minor": 4
}
